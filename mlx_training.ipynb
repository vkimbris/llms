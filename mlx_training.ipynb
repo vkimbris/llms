{
 "cells": [
  {
   "cell_type": "code",
   "execution_count": 1,
   "metadata": {},
   "outputs": [],
   "source": [
    "import torch\n",
    "\n",
    "import numpy as np\n",
    "import mlx.core as mx\n",
    "import mlx.nn as nn\n",
    "import mlx.optimizers as optim\n",
    "\n",
    "import matplotlib.pyplot as plt\n",
    "\n",
    "from src.mlx.models.gpt_mlx import GPT\n",
    "from src.mlx.models.gpt_mlx import generate_attention_mask\n",
    "from src.mlx.models.gpt_mlx import GPTParams\n",
    "from src.mlx.utils.mlx_lm_dataset import LanguageModelingDataset\n",
    "\n",
    "from src.tokenizers.tokenizer import Tokenizer\n",
    "\n",
    "from tqdm.notebook import tqdm\n",
    "\n",
    "from functools import partial"
   ]
  },
  {
   "cell_type": "code",
   "execution_count": 2,
   "metadata": {},
   "outputs": [],
   "source": [
    "tokenizer = Tokenizer.from_pretrained(\"tokenizers/tokenizer_ru_toxics/\")"
   ]
  },
  {
   "cell_type": "code",
   "execution_count": 3,
   "metadata": {},
   "outputs": [],
   "source": [
    "params = GPTParams(\n",
    "    vocab_size=len(tokenizer.vocab),\n",
    "    context_size=128,\n",
    "    input_dim=312,\n",
    "    query_dim=32,\n",
    "    value_dim=32,\n",
    "    feed_forward_hidden_dim=1024,\n",
    "    n_heads=4,\n",
    "    n_decoder_blocks=6,\n",
    ")\n",
    "\n",
    "BATCH_SIZE = 128\n",
    "N_EPOCHS = 100\n",
    "LEARNING_RATE = 2e-3\n",
    "MASK = generate_attention_mask(params.context_size - 1)"
   ]
  },
  {
   "cell_type": "code",
   "execution_count": 4,
   "metadata": {},
   "outputs": [],
   "source": [
    "tokens = torch.load(\"preprocessed_datasets/ru_toxics_tokens\")\n",
    "tokens = mx.array(tokens.tolist())\n",
    "\n",
    "dataset = LanguageModelingDataset(tokens)"
   ]
  },
  {
   "cell_type": "code",
   "execution_count": 5,
   "metadata": {},
   "outputs": [],
   "source": [
    "model = GPT(params)\n",
    "optimizer = optim.Adam(learning_rate=LEARNING_RATE)"
   ]
  },
  {
   "cell_type": "code",
   "execution_count": 6,
   "metadata": {},
   "outputs": [],
   "source": [
    "def loss_func(model, inputs, labels):\n",
    "    logits = model(inputs, MASK)\n",
    "    logits = logits.reshape(-1, logits.shape[2])\n",
    "    \n",
    "    return mx.mean(nn.losses.cross_entropy(logits, labels.flatten()))\n",
    "\n",
    "\n",
    "state = [model.state, optimizer.state]\n",
    "\n",
    "@partial(mx.compile, inputs=state, outputs=state)\n",
    "def step(inputs, labels):\n",
    "    loss_and_grad_fn = nn.value_and_grad(model, loss_func)\n",
    "    loss, grads = loss_and_grad_fn(model, inputs, labels)\n",
    "    optimizer.update(model, grads)\n",
    "    return loss"
   ]
  },
  {
   "cell_type": "code",
   "execution_count": 7,
   "metadata": {},
   "outputs": [
    {
     "data": {
      "application/vnd.jupyter.widget-view+json": {
       "model_id": "f78e79f1bfa143a79e3df3e2eb5993c0",
       "version_major": 2,
       "version_minor": 0
      },
      "text/plain": [
       "  0%|          | 0/100 [00:00<?, ?it/s]"
      ]
     },
     "metadata": {},
     "output_type": "display_data"
    },
    {
     "data": {
      "application/vnd.jupyter.widget-view+json": {
       "model_id": "e01618d4a3f04029a44da6a1006a097d",
       "version_major": 2,
       "version_minor": 0
      },
      "text/plain": [
       "  0%|          | 0/416 [00:00<?, ?it/s]"
      ]
     },
     "metadata": {},
     "output_type": "display_data"
    },
    {
     "data": {
      "application/vnd.jupyter.widget-view+json": {
       "model_id": "5c2792e0d53f49d09aae194a78588bd8",
       "version_major": 2,
       "version_minor": 0
      },
      "text/plain": [
       "  0%|          | 0/416 [00:00<?, ?it/s]"
      ]
     },
     "metadata": {},
     "output_type": "display_data"
    },
    {
     "ename": "KeyboardInterrupt",
     "evalue": "",
     "output_type": "error",
     "traceback": [
      "\u001b[0;31m---------------------------------------------------------------------------\u001b[0m",
      "\u001b[0;31mKeyboardInterrupt\u001b[0m                         Traceback (most recent call last)",
      "Cell \u001b[0;32mIn[7], line 10\u001b[0m\n\u001b[1;32m      6\u001b[0m inputs, labels \u001b[38;5;241m=\u001b[39m mx\u001b[38;5;241m.\u001b[39marray(inputs), mx\u001b[38;5;241m.\u001b[39marray(labels)\n\u001b[1;32m      8\u001b[0m loss \u001b[38;5;241m=\u001b[39m step(inputs, labels)\n\u001b[0;32m---> 10\u001b[0m \u001b[43mmx\u001b[49m\u001b[38;5;241;43m.\u001b[39;49m\u001b[43meval\u001b[49m\u001b[43m(\u001b[49m\u001b[43mstate\u001b[49m\u001b[43m)\u001b[49m\n\u001b[1;32m     11\u001b[0m losses\u001b[38;5;241m.\u001b[39mappend(loss\u001b[38;5;241m.\u001b[39mitem())\n",
      "\u001b[0;31mKeyboardInterrupt\u001b[0m: "
     ]
    }
   ],
   "source": [
    "losses = []\n",
    "\n",
    "for epoch in tqdm(range(N_EPOCHS)):\n",
    "    for batch in tqdm(dataset.to_dataloader(batch_size=BATCH_SIZE), total=np.ceil(len(dataset) / BATCH_SIZE).astype(int)):\n",
    "        inputs, labels = batch\n",
    "        inputs, labels = mx.array(inputs), mx.array(labels)\n",
    "\n",
    "        loss = step(inputs, labels)\n",
    "\n",
    "        mx.eval(state)\n",
    "        losses.append(loss.item())"
   ]
  },
  {
   "cell_type": "code",
   "execution_count": 8,
   "metadata": {},
   "outputs": [
    {
     "data": {
      "image/png": "[encoded data removed]",
      "text/plain": [
       "<Figure size 640x480 with 1 Axes>"
      ]
     },
     "metadata": {},
     "output_type": "display_data"
    }
   ],
   "source": [
    "plt.plot(losses)\n",
    "plt.show()"
   ]
  },
  {
   "cell_type": "code",
   "execution_count": null,
   "metadata": {},
   "outputs": [],
   "source": []
  }
 ],
 "metadata": {
  "kernelspec": {
   "display_name": "Python 3",
   "language": "python",
   "name": "python3"
  },
  "language_info": {
   "codemirror_mode": {
    "name": "ipython",
    "version": 3
   },
   "file_extension": ".py",
   "mimetype": "text/x-python",
   "name": "python",
   "nbconvert_exporter": "python",
   "pygments_lexer": "ipython3",
   "version": "3.10.2"
  }
 },
 "nbformat": 4,
 "nbformat_minor": 2
}
